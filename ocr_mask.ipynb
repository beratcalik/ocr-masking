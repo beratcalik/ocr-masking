{
 "cells": [
  {
   "cell_type": "code",
   "execution_count": 1,
   "id": "0cfdda9c-724e-47ff-9aff-5ce2f855417b",
   "metadata": {},
   "outputs": [],
   "source": [
    "#Gerekli kütüphanlerin importu\n",
    "import pytesseract\n",
    "import cv2"
   ]
  },
  {
   "cell_type": "code",
   "execution_count": 2,
   "id": "ddb8f7fc-bf1d-4796-8aeb-ab8ae05e007a",
   "metadata": {},
   "outputs": [],
   "source": [
    "#Tesseract Konumu\n",
    "pytesseract.pytesseract.tesseract_cmd = r\"C:\\Users\\berat.calik\\AppData\\Local\\Programs\\Tesseract-OCR\\tesseract.exe\""
   ]
  },
  {
   "cell_type": "code",
   "execution_count": 7,
   "id": "a211485f-f3b3-4909-9fb4-c6734ddbae83",
   "metadata": {},
   "outputs": [],
   "source": [
    "#OCR fonksiyonu\n",
    "def ocr_from_image(image_path):\n",
    "    img = cv2.imread(image_path)\n",
    "    img_rgb = cv2.cvtColor(img, cv2.COLOR_BGR2RGB)\n",
    "    text = pytesseract.image_to_string(img_rgb, lang='eng')\n",
    "    return text"
   ]
  },
  {
   "cell_type": "code",
   "execution_count": 8,
   "id": "f5e75808-6c37-4253-a753-6ef42af304f3",
   "metadata": {},
   "outputs": [],
   "source": [
    "# Maskeleme fonksiyonu\n",
    "def mask_text(text):\n",
    "    words = text.split()\n",
    "    masked_words = []\n",
    "    for word in words:\n",
    "        if len(word) <= 3:\n",
    "            masked_words.append(word)\n",
    "        else:\n",
    "            masked_word = word[:3] + '*' * (len(word) - 3)\n",
    "            masked_words.append(masked_word)\n",
    "    return ' '.join(masked_words)\n"
   ]
  },
  {
   "cell_type": "code",
   "execution_count": 9,
   "id": "13fe8f11-c52d-4c14-969b-0dcdc26fe590",
   "metadata": {},
   "outputs": [],
   "source": [
    "def run_pipeline(image_path):\n",
    "    print(\"▶ Görselden OCR ile metin çıkarılıyor...\")\n",
    "    text = ocr_from_image(image_path)\n",
    "    print(\"🔹 Tespit edilen metin:\\n\", text)\n",
    "\n",
    "    print(\"▶ Maskeleme uygulanıyor...\")\n",
    "    masked = mask_text(text)\n",
    "    print(\"🔒 Maskelenmiş metin:\\n\", masked)\n"
   ]
  },
  {
   "cell_type": "code",
   "execution_count": 12,
   "id": "1586d25e-a974-4102-97ed-ecc51a9bedeb",
   "metadata": {},
   "outputs": [
    {
     "name": "stdout",
     "output_type": "stream",
     "text": [
      "▶ Görselden OCR ile metin çıkarılıyor...\n",
      "🔹 Tespit edilen metin:\n",
      " BERAT\n",
      "\n",
      "▶ Maskeleme uygulanıyor...\n",
      "🔒 Maskelenmiş metin:\n",
      " BER**\n"
     ]
    }
   ],
   "source": [
    "# Deneme\n",
    "run_pipeline(r\"C:\\Users\\berat.calik\\Desktop\\ocr-masking\\BERAT.png\")\n"
   ]
  },
  {
   "cell_type": "code",
   "execution_count": null,
   "id": "a2259f4a-047a-4d64-b34b-23d446ebec24",
   "metadata": {},
   "outputs": [],
   "source": []
  }
 ],
 "metadata": {
  "kernelspec": {
   "display_name": "Python 3 (ipykernel)",
   "language": "python",
   "name": "python3"
  },
  "language_info": {
   "codemirror_mode": {
    "name": "ipython",
    "version": 3
   },
   "file_extension": ".py",
   "mimetype": "text/x-python",
   "name": "python",
   "nbconvert_exporter": "python",
   "pygments_lexer": "ipython3",
   "version": "3.13.5"
  }
 },
 "nbformat": 4,
 "nbformat_minor": 5
}
